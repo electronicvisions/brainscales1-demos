{
 "cells": [
  {
   "cell_type": "markdown",
   "id": "86253181",
   "metadata": {},
   "source": [
    "# Welcome to the BrainScaleS-1 Demos & Examples!\n",
    "\n",
    "- [Demos and Examples](tutorial.ipynb)"
   ]
  }
 ],
 "metadata": {
  "date": 1733496877.5622928,
  "filename": "index.rst",
  "kernelspec": {
   "display_name": "EBRAINS-experimental",
   "language": "python",
   "name": "ebrains-experimental"
  },
  "title": "Welcome to the BrainScaleS-1 Demos & Examples!"
 },
 "nbformat": 4,
 "nbformat_minor": 5
}