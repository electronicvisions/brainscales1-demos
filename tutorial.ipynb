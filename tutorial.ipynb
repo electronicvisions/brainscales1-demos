{
 "cells": [
  {
   "cell_type": "markdown",
   "id": "442ced2a",
   "metadata": {},
   "source": [
    "# Welcome to the BrainScaleS-1 Tutorial\n",
    "\n",
    "- [Downscaled cortical mircrocircuit on BrainScales-1](cortical_microcircuit.ipynb)\n",
    "- [Balanced Random Network on BrainScales-1](random_network.ipynb)"
   ]
  }
 ],
 "metadata": {
  "date": 1733496877.5767853,
  "filename": "tutorial.rst",
  "kernelspec": {
   "display_name": "EBRAINS-experimental",
   "language": "python",
   "name": "ebrains-experimental"
  },
  "title": "Welcome to the BrainScaleS-1 Tutorial"
 },
 "nbformat": 4,
 "nbformat_minor": 5
}